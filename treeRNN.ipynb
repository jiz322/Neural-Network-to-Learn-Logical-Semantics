{
 "cells": [
  {
   "cell_type": "code",
   "execution_count": 1,
   "metadata": {},
   "outputs": [
    {
     "data": {
      "text/plain": [
       "14324"
      ]
     },
     "execution_count": 1,
     "metadata": {},
     "output_type": "execute_result"
    }
   ],
   "source": [
    "import os\n",
    "os.getpid()"
   ]
  },
  {
   "cell_type": "code",
   "execution_count": 2,
   "metadata": {},
   "outputs": [],
   "source": [
    "# Parse Tree\n",
    "\n",
    "# Notice: there is no need for using data loader\n",
    "\n",
    "# Adam optimizer and NN models are still necessary\n",
    "\n",
    "# During training, we simplely traverse through the list of object\n",
    "\n",
    "# Notice that the label is binary. Instead of MLE, we can do a logistic regression with BCE loss."
   ]
  },
  {
   "cell_type": "markdown",
   "metadata": {},
   "source": [
    "# Module 1\n",
    "## Data Preprocessing and Parsing. \n",
    "## Each entry is a tuple (label, parse tree of predicate)"
   ]
  },
  {
   "cell_type": "code",
   "execution_count": 3,
   "metadata": {},
   "outputs": [
    {
     "name": "stdout",
     "output_type": "stream",
     "text": [
      "train_len:  8000\n",
      "count:  4005\n"
     ]
    },
    {
     "name": "stderr",
     "output_type": "stream",
     "text": [
      "100%|██████████| 8000/8000 [00:00<00:00, 11906.18it/s]\n",
      "100%|██████████| 2000/2000 [00:00<00:00, 9375.10it/s]\n"
     ]
    }
   ],
   "source": [
    "import torch\n",
    "\n",
    "with open(\"ALCIR-data-parsesupervise.txt\") as file:\n",
    "    lines = file.readlines()\n",
    "with open(\"ALCIR-data-parsesupervise-10k.txt\") as file2:\n",
    "    lines2 = file2.readlines()\n",
    "    \n",
    "for line_index in range(len(lines)):\n",
    "    lines[line_index] = lines[line_index].split(\"\\t\")\n",
    "    lines[line_index].pop(2)\n",
    "    \n",
    "for line_index in range(len(lines2)):\n",
    "    lines2[line_index] = lines2[line_index].split(\"\\t\")\n",
    "    lines2[line_index].pop(2)\n",
    "    \n",
    "    # Training set and Testing set splited here.\n",
    "\n",
    "lenth = len(lines2)\n",
    "import random\n",
    "random.seed(10)\n",
    "random.shuffle(lines2)\n",
    "train_list = lines2[0:int(lenth*0.8)]\n",
    "test_list = lines2[int(lenth*0.8):]\n",
    "lenth = len(lines)\n",
    "train_list_short = lines[0:int(lenth*0.8)]\n",
    "test_list_short = lines[int(lenth*0.8):]\n",
    "print(\"train_len: \", len(train_list))\n",
    "count = 0\n",
    "for i in train_list:\n",
    "    if i[0] == \"satisfiable\":\n",
    "        count += 1  \n",
    "print(\"count: \", count)\n",
    "\n",
    "\n",
    "\n",
    "from pythonds.basic import Stack\n",
    "from pythonds.trees import BinaryTree\n",
    "\n",
    "# add 'o' as operater placeholder\n",
    "def convert (p):\n",
    "    p = p.split()\n",
    "    fix = 0\n",
    "    for i in range(len(p)-1):\n",
    "        if p[i+fix] in ['q', '|', '&', ')', '=>', '~', 'p', '<=>']:\n",
    "            if p[i+1+fix] in ['(', 'q', '|', '&', '=>', '~', 'p', '<=>']:\n",
    "                p.insert(i+1+fix, 'o')\n",
    "                fix += 1\n",
    "    return p\n",
    "\n",
    "# build a parse tree for a predicate. The o is placeholder of operator\n",
    "# During nn train, the o is replace by real value. \n",
    "# The o at the root, passing through the sigmoid function, is the output of nn\n",
    "def buildParseTree(fpexp):\n",
    "    fplist = convert(fpexp)\n",
    "    # print(fplist)\n",
    "    pStack = Stack()\n",
    "    eTree = BinaryTree('')\n",
    "    pStack.push(eTree)\n",
    "    currentTree = eTree\n",
    "\n",
    "    for i in fplist:\n",
    "        if i == '(':\n",
    "            currentTree.insertLeft('')\n",
    "            pStack.push(currentTree)\n",
    "            currentTree = currentTree.getLeftChild()\n",
    "\n",
    "        elif i in ['o']:\n",
    "            currentTree.setRootVal(i)\n",
    "            currentTree.insertRight('')\n",
    "            pStack.push(currentTree)\n",
    "            currentTree = currentTree.getRightChild()\n",
    "\n",
    "        elif i == ')':\n",
    "            currentTree = pStack.pop()\n",
    "\n",
    "        elif i not in ['o' ')']:\n",
    "\n",
    "            currentTree.setRootVal(i)\n",
    "            parent = pStack.pop()\n",
    "            currentTree = parent\n",
    "\n",
    "\n",
    "    return eTree\n",
    "\n",
    "from tqdm import tqdm\n",
    "# Return a list of tuple, used for training\n",
    "#   first element is -1 if unsatisiable, 1 if satisiable\n",
    "#   second element is a Tree object\n",
    "def makeTrainData():\n",
    "    l = []\n",
    "    for i in tqdm(train_list):\n",
    "        label = 0.0\n",
    "        if i[0] == 'satisfiable':\n",
    "            label = 1.0\n",
    "        ptree = buildParseTree(i[1])\n",
    "        l.append((label, ptree))\n",
    "    return l\n",
    "        \n",
    "        \n",
    "        \n",
    "# Return a list of tuple, used for testing\n",
    "#   first element is -1 if unsatisiable, 1 if satisiable\n",
    "#   second element is a Tree object\n",
    "def makeTestData():\n",
    "    l = []\n",
    "    for i in tqdm(test_list):\n",
    "        label = 0.0\n",
    "        if i[0] == 'satisfiable':\n",
    "            label = 1.0\n",
    "        ptree = buildParseTree(i[1])\n",
    "        l.append((label, ptree))\n",
    "    return l\n",
    "\n",
    "train_data = makeTrainData()\n",
    "test_data = makeTestData()\n",
    "\n",
    "corpora = {'q':torch.tensor(0), '|':torch.tensor(1), \n",
    "           '&':torch.tensor(2), '=>':torch.tensor(3), \n",
    "           '~':torch.tensor(4), 'p':torch.tensor(5), \n",
    "           '<=>':torch.tensor(6)}"
   ]
  },
  {
   "cell_type": "markdown",
   "metadata": {},
   "source": [
    "# Module 2\n",
    "## Neural Network\n",
    "## An implementation of the RNN from \"RNN can Learn Logical Semantics\""
   ]
  },
  {
   "cell_type": "code",
   "execution_count": 4,
   "metadata": {},
   "outputs": [],
   "source": [
    "from torch import embedding, nn\n",
    "\n",
    "\n",
    "class TreeRNNPredictor(nn.Module):\n",
    "    def __init__(self, feature_dim=75, input_dim=7):\n",
    "        \"\"\"\n",
    "        :param input_dim: size of the vocabulary (number of unique tokens) = 7\n",
    "        :param feature_dim mentioned in the paper, which set up to 75\n",
    "        \"\"\"\n",
    "        super().__init__()\n",
    "\n",
    "\n",
    "        self.embedding = nn.Embedding(input_dim, feature_dim)\n",
    "        self.matrix_m = nn.Linear(feature_dim*2, feature_dim)\n",
    "        self.fc_output = nn.Linear(feature_dim, 1)\n",
    "\n",
    "    # Compute vectors bottom-up\n",
    "    # Return the vector of in the root\n",
    "    def traverse_tree(self, tree):\n",
    "        \n",
    "        if not tree.isLeaf():\n",
    "            l = tree.getLeftChild()\n",
    "            r = tree.getRightChild()\n",
    "            tree.key = torch.sigmoid(self.matrix_m(torch.cat((self.traverse_tree(l),self.traverse_tree(r)))))\n",
    "        else:\n",
    "            emb = self.embedding(corpora[tree.key])\n",
    "            return emb\n",
    "            \n",
    "        return tree.key\n",
    "    \n",
    "    \n",
    "\n",
    "    # Instead of tanh, the sigmoid will be used.\n",
    "    # The BCEloss will be used as loss function for regression.\n",
    "    def forward(self, src):\n",
    "        \"\"\"\n",
    "\n",
    "        :param src: a tree object.       \n",
    "        :return: the prediction from 0 to 1. \n",
    "        \"\"\"\n",
    "\n",
    "        root = self.traverse_tree(src)\n",
    "        z = self.fc_output(root)\n",
    "        \n",
    "        return torch.sigmoid(z)\n"
   ]
  },
  {
   "cell_type": "code",
   "execution_count": 5,
   "metadata": {},
   "outputs": [],
   "source": [
    "from torch import optim\n",
    "predictor = TreeRNNPredictor()\n",
    "# as what said in the paper\n",
    "def init_weights(model):\n",
    "    for name, param in model.named_parameters():\n",
    "        nn.init.uniform_(param.data, -0.05, 0.05)\n",
    "predictor.apply(init_weights)\n",
    "\n",
    "optimizer = optim.Adam(predictor.parameters())\n",
    "\n",
    "# Different than paper, here using sigmoid instead of tanh\n",
    "criterion = nn.BCELoss(reduction = 'sum')\n",
    "\n",
    "\n",
    "N_EPOCHS = 5\n",
    "CLIP = 1\n",
    "\n",
    "best_test_loss = float('inf')\n",
    "\n",
    "training_losses = []\n",
    "test_losses = []\n",
    "\n"
   ]
  },
  {
   "cell_type": "markdown",
   "metadata": {},
   "source": [
    "# Module 3\n",
    "## Training (skip if you are evaluating only)"
   ]
  },
  {
   "cell_type": "code",
   "execution_count": 79,
   "metadata": {},
   "outputs": [],
   "source": [
    "\n",
    "num_epochs_train = 0\n",
    "def train(model, optimizer, criterion, clip):\n",
    "    global num_epochs_train\n",
    "    model.train()\n",
    "    \n",
    "    # Tuning of lr happens here\n",
    "    tmp = optimizer.state_dict()\n",
    "    tmp[\"param_groups\"][0][\"lr\"] = 0.001/(1.9*(num_epochs_train+1))\n",
    "    optimizer.load_state_dict(tmp)\n",
    "    \n",
    "    epoch_loss = 0\n",
    "    num_batchs = 0\n",
    "    total = 0\n",
    "\n",
    "\n",
    "    # Apparently, batch_size == 1\n",
    "    for i, batch in tqdm(enumerate(train_data)):\n",
    "        \n",
    "        optimizer.zero_grad()\n",
    "\n",
    "        \n",
    "        z = predictor.forward(batch[1])\n",
    "        loss = 0\n",
    "        \n",
    "        #print(torch.tensor(z.item()),torch.tensor(batch[0]))\n",
    "        loss = criterion(z, torch.tensor([batch[0]]))\n",
    "        loss.backward()\n",
    "        # Clips gradient norm of an iterable of parameters.\n",
    "        torch.nn.utils.clip_grad_norm_(model.parameters(), clip)\n",
    "        optimizer.step()\n",
    "        epoch_loss += loss.item()\n",
    "        total += 1\n",
    "\n",
    "    return epoch_loss /total\n",
    "\n",
    "confusion_matrix = []\n",
    "num_epochs = 0\n",
    "\n",
    "def evaluate(model, criterion):\n",
    "    \n",
    "    model.eval()\n",
    "    epoch_loss = 0\n",
    "    total = 0\n",
    "    confusion_matrix.append(torch.zeros(2,2))\n",
    "    global num_epochs\n",
    "    for i, batch in tqdm(enumerate(test_data)):\n",
    "        z = predictor.forward(batch[1])\n",
    "        loss = 0\n",
    "        loss = criterion(z, torch.tensor([batch[0]]))\n",
    "        \n",
    "        epoch_loss += loss.item()\n",
    "        total += 1\n",
    "        \n",
    "        # Load in confusion_matrix\n",
    "        for i in range(1):\n",
    "            \n",
    "            row = int(batch[0])\n",
    "            col = int(z+0.5)\n",
    "            confusion_matrix[num_epochs][row][col] += 1\n",
    "     \n",
    "    num_epochs += 1\n",
    "        \n",
    "    return epoch_loss/total\n",
    "\n",
    "def epoch_time(start_time, end_time):\n",
    "    elapsed_time = end_time - start_time\n",
    "    elapsed_mins = int(elapsed_time / 60)\n",
    "    elapsed_secs = int(elapsed_time - (elapsed_mins * 60))\n",
    "    return elapsed_mins, elapsed_secs\n",
    "\n",
    "\n"
   ]
  },
  {
   "cell_type": "code",
   "execution_count": 115,
   "metadata": {},
   "outputs": [
    {
     "name": "stdout",
     "output_type": "stream",
     "text": [
      "epoch start:  0\n"
     ]
    },
    {
     "name": "stderr",
     "output_type": "stream",
     "text": [
      "8000it [00:23, 337.14it/s]\n",
      "2000it [00:02, 800.31it/s]\n"
     ]
    },
    {
     "name": "stdout",
     "output_type": "stream",
     "text": [
      "Epoch: 01 | Time: 0m 26s\tTrain Loss: 0.235 | Test Loss: 0.333\n",
      "epoch start:  1\n"
     ]
    },
    {
     "name": "stderr",
     "output_type": "stream",
     "text": [
      "8000it [00:24, 326.50it/s]\n",
      "2000it [00:02, 811.88it/s]\n"
     ]
    },
    {
     "name": "stdout",
     "output_type": "stream",
     "text": [
      "Epoch: 02 | Time: 0m 26s\tTrain Loss: 0.232 | Test Loss: 0.330\n",
      "epoch start:  2\n"
     ]
    },
    {
     "name": "stderr",
     "output_type": "stream",
     "text": [
      "8000it [00:24, 331.72it/s]\n",
      "2000it [00:03, 661.60it/s]\n"
     ]
    },
    {
     "name": "stdout",
     "output_type": "stream",
     "text": [
      "Epoch: 03 | Time: 0m 27s\tTrain Loss: 0.230 | Test Loss: 0.330\n",
      "epoch start:  3\n"
     ]
    },
    {
     "name": "stderr",
     "output_type": "stream",
     "text": [
      "8000it [00:25, 317.99it/s]\n",
      "2000it [00:02, 843.14it/s]\n"
     ]
    },
    {
     "name": "stdout",
     "output_type": "stream",
     "text": [
      "Epoch: 04 | Time: 0m 27s\tTrain Loss: 0.240 | Test Loss: 0.329\n",
      "epoch start:  4\n"
     ]
    },
    {
     "name": "stderr",
     "output_type": "stream",
     "text": [
      "8000it [00:23, 347.19it/s]\n",
      "2000it [00:02, 840.15it/s]\n"
     ]
    },
    {
     "name": "stdout",
     "output_type": "stream",
     "text": [
      "Epoch: 05 | Time: 0m 25s\tTrain Loss: 0.237 | Test Loss: 0.332\n",
      "epoch start:  5\n"
     ]
    },
    {
     "name": "stderr",
     "output_type": "stream",
     "text": [
      "8000it [00:19, 403.21it/s]\n",
      "2000it [00:01, 1024.67it/s]\n"
     ]
    },
    {
     "name": "stdout",
     "output_type": "stream",
     "text": [
      "Epoch: 06 | Time: 0m 21s\tTrain Loss: 0.235 | Test Loss: 0.334\n",
      "epoch start:  6\n"
     ]
    },
    {
     "name": "stderr",
     "output_type": "stream",
     "text": [
      "8000it [00:18, 427.93it/s]\n",
      "2000it [00:01, 1026.77it/s]\n"
     ]
    },
    {
     "name": "stdout",
     "output_type": "stream",
     "text": [
      "Epoch: 07 | Time: 0m 20s\tTrain Loss: 0.222 | Test Loss: 0.332\n",
      "epoch start:  7\n"
     ]
    },
    {
     "name": "stderr",
     "output_type": "stream",
     "text": [
      "8000it [00:18, 433.65it/s]\n",
      "2000it [00:01, 1019.93it/s]\n"
     ]
    },
    {
     "name": "stdout",
     "output_type": "stream",
     "text": [
      "Epoch: 08 | Time: 0m 20s\tTrain Loss: 0.231 | Test Loss: 0.339\n",
      "epoch start:  8\n"
     ]
    },
    {
     "name": "stderr",
     "output_type": "stream",
     "text": [
      "8000it [00:18, 428.38it/s]\n",
      "2000it [00:01, 1027.41it/s]\n"
     ]
    },
    {
     "name": "stdout",
     "output_type": "stream",
     "text": [
      "Epoch: 09 | Time: 0m 20s\tTrain Loss: 0.231 | Test Loss: 0.336\n",
      "epoch start:  9\n"
     ]
    },
    {
     "name": "stderr",
     "output_type": "stream",
     "text": [
      "8000it [00:18, 427.01it/s]\n",
      "2000it [00:02, 991.53it/s] \n"
     ]
    },
    {
     "name": "stdout",
     "output_type": "stream",
     "text": [
      "Epoch: 10 | Time: 0m 20s\tTrain Loss: 0.228 | Test Loss: 0.338\n",
      "epoch start:  10\n"
     ]
    },
    {
     "name": "stderr",
     "output_type": "stream",
     "text": [
      "8000it [00:18, 421.96it/s]\n",
      "2000it [00:02, 986.35it/s] \n"
     ]
    },
    {
     "name": "stdout",
     "output_type": "stream",
     "text": [
      "Epoch: 11 | Time: 0m 20s\tTrain Loss: 0.226 | Test Loss: 0.338\n",
      "epoch start:  11\n"
     ]
    },
    {
     "name": "stderr",
     "output_type": "stream",
     "text": [
      "8000it [00:19, 420.62it/s]\n",
      "2000it [00:02, 986.22it/s] \n"
     ]
    },
    {
     "name": "stdout",
     "output_type": "stream",
     "text": [
      "Epoch: 12 | Time: 0m 21s\tTrain Loss: 0.225 | Test Loss: 0.337\n",
      "epoch start:  12\n"
     ]
    },
    {
     "name": "stderr",
     "output_type": "stream",
     "text": [
      "8000it [00:18, 427.57it/s]\n",
      "2000it [00:02, 986.09it/s] \n"
     ]
    },
    {
     "name": "stdout",
     "output_type": "stream",
     "text": [
      "Epoch: 13 | Time: 0m 20s\tTrain Loss: 0.211 | Test Loss: 0.342\n",
      "epoch start:  13\n"
     ]
    },
    {
     "name": "stderr",
     "output_type": "stream",
     "text": [
      "8000it [00:18, 427.54it/s]\n",
      "2000it [00:01, 1001.66it/s]\n"
     ]
    },
    {
     "name": "stdout",
     "output_type": "stream",
     "text": [
      "Epoch: 14 | Time: 0m 20s\tTrain Loss: 0.212 | Test Loss: 0.343\n",
      "epoch start:  14\n"
     ]
    },
    {
     "name": "stderr",
     "output_type": "stream",
     "text": [
      "8000it [00:18, 429.42it/s]\n",
      "2000it [00:02, 995.03it/s] \n"
     ]
    },
    {
     "name": "stdout",
     "output_type": "stream",
     "text": [
      "Epoch: 15 | Time: 0m 20s\tTrain Loss: 0.207 | Test Loss: 0.338\n",
      "epoch start:  15\n"
     ]
    },
    {
     "name": "stderr",
     "output_type": "stream",
     "text": [
      "8000it [00:18, 426.78it/s]\n",
      "2000it [00:02, 988.24it/s] \n"
     ]
    },
    {
     "name": "stdout",
     "output_type": "stream",
     "text": [
      "Epoch: 16 | Time: 0m 20s\tTrain Loss: 0.205 | Test Loss: 0.337\n",
      "epoch start:  16\n"
     ]
    },
    {
     "name": "stderr",
     "output_type": "stream",
     "text": [
      "8000it [00:18, 427.28it/s]\n",
      "2000it [00:02, 992.88it/s] \n"
     ]
    },
    {
     "name": "stdout",
     "output_type": "stream",
     "text": [
      "Epoch: 17 | Time: 0m 20s\tTrain Loss: 0.203 | Test Loss: 0.336\n",
      "epoch start:  17\n"
     ]
    },
    {
     "name": "stderr",
     "output_type": "stream",
     "text": [
      "8000it [00:18, 429.07it/s]\n",
      "2000it [00:01, 1017.58it/s]\n"
     ]
    },
    {
     "name": "stdout",
     "output_type": "stream",
     "text": [
      "Epoch: 18 | Time: 0m 20s\tTrain Loss: 0.201 | Test Loss: 0.326\n",
      "epoch start:  18\n"
     ]
    },
    {
     "name": "stderr",
     "output_type": "stream",
     "text": [
      "8000it [00:18, 428.71it/s]\n",
      "2000it [00:02, 993.25it/s] \n"
     ]
    },
    {
     "name": "stdout",
     "output_type": "stream",
     "text": [
      "Epoch: 19 | Time: 0m 20s\tTrain Loss: 0.202 | Test Loss: 0.323\n",
      "epoch start:  19\n"
     ]
    },
    {
     "name": "stderr",
     "output_type": "stream",
     "text": [
      "8000it [00:18, 429.31it/s]\n",
      "2000it [00:02, 995.47it/s] \n"
     ]
    },
    {
     "name": "stdout",
     "output_type": "stream",
     "text": [
      "Epoch: 20 | Time: 0m 20s\tTrain Loss: 0.198 | Test Loss: 0.331\n",
      "epoch start:  20\n"
     ]
    },
    {
     "name": "stderr",
     "output_type": "stream",
     "text": [
      "8000it [00:18, 432.68it/s]\n",
      "2000it [00:01, 1016.78it/s]\n"
     ]
    },
    {
     "name": "stdout",
     "output_type": "stream",
     "text": [
      "Epoch: 21 | Time: 0m 20s\tTrain Loss: 0.195 | Test Loss: 0.334\n",
      "epoch start:  21\n"
     ]
    },
    {
     "name": "stderr",
     "output_type": "stream",
     "text": [
      "8000it [00:18, 428.05it/s]\n",
      "2000it [00:01, 1002.60it/s]\n"
     ]
    },
    {
     "name": "stdout",
     "output_type": "stream",
     "text": [
      "Epoch: 22 | Time: 0m 20s\tTrain Loss: 0.195 | Test Loss: 0.329\n",
      "epoch start:  22\n"
     ]
    },
    {
     "name": "stderr",
     "output_type": "stream",
     "text": [
      "8000it [00:18, 430.71it/s]\n",
      "2000it [00:01, 1004.84it/s]\n"
     ]
    },
    {
     "name": "stdout",
     "output_type": "stream",
     "text": [
      "Epoch: 23 | Time: 0m 20s\tTrain Loss: 0.194 | Test Loss: 0.333\n",
      "epoch start:  23\n"
     ]
    },
    {
     "name": "stderr",
     "output_type": "stream",
     "text": [
      "8000it [00:18, 430.65it/s]\n",
      "2000it [00:01, 1001.48it/s]\n"
     ]
    },
    {
     "name": "stdout",
     "output_type": "stream",
     "text": [
      "Epoch: 24 | Time: 0m 20s\tTrain Loss: 0.190 | Test Loss: 0.338\n",
      "epoch start:  24\n"
     ]
    },
    {
     "name": "stderr",
     "output_type": "stream",
     "text": [
      "8000it [00:18, 425.62it/s]\n",
      "2000it [00:02, 980.42it/s] \n"
     ]
    },
    {
     "name": "stdout",
     "output_type": "stream",
     "text": [
      "Epoch: 25 | Time: 0m 20s\tTrain Loss: 0.190 | Test Loss: 0.341\n",
      "epoch start:  25\n"
     ]
    },
    {
     "name": "stderr",
     "output_type": "stream",
     "text": [
      "8000it [00:18, 428.93it/s]\n",
      "2000it [00:01, 1014.15it/s]\n"
     ]
    },
    {
     "name": "stdout",
     "output_type": "stream",
     "text": [
      "Epoch: 26 | Time: 0m 20s\tTrain Loss: 0.187 | Test Loss: 0.332\n",
      "epoch start:  26\n"
     ]
    },
    {
     "name": "stderr",
     "output_type": "stream",
     "text": [
      "8000it [00:18, 429.88it/s]\n",
      "2000it [00:02, 976.16it/s] \n"
     ]
    },
    {
     "name": "stdout",
     "output_type": "stream",
     "text": [
      "Epoch: 27 | Time: 0m 20s\tTrain Loss: 0.188 | Test Loss: 0.351\n",
      "epoch start:  27\n"
     ]
    },
    {
     "name": "stderr",
     "output_type": "stream",
     "text": [
      "8000it [00:19, 415.67it/s]\n",
      "2000it [00:01, 1001.04it/s]\n"
     ]
    },
    {
     "name": "stdout",
     "output_type": "stream",
     "text": [
      "Epoch: 28 | Time: 0m 21s\tTrain Loss: 0.187 | Test Loss: 0.349\n",
      "epoch start:  28\n"
     ]
    },
    {
     "name": "stderr",
     "output_type": "stream",
     "text": [
      "8000it [00:19, 411.57it/s]\n",
      "2000it [00:02, 854.09it/s]\n"
     ]
    },
    {
     "name": "stdout",
     "output_type": "stream",
     "text": [
      "Epoch: 29 | Time: 0m 21s\tTrain Loss: 0.186 | Test Loss: 0.357\n",
      "epoch start:  29\n"
     ]
    },
    {
     "name": "stderr",
     "output_type": "stream",
     "text": [
      "8000it [00:20, 387.19it/s]\n",
      "2000it [00:02, 755.57it/s]\n"
     ]
    },
    {
     "name": "stdout",
     "output_type": "stream",
     "text": [
      "Epoch: 30 | Time: 0m 23s\tTrain Loss: 0.185 | Test Loss: 0.346\n",
      "epoch start:  30\n"
     ]
    },
    {
     "name": "stderr",
     "output_type": "stream",
     "text": [
      "8000it [00:20, 391.80it/s]\n",
      "2000it [00:02, 976.54it/s] \n"
     ]
    },
    {
     "name": "stdout",
     "output_type": "stream",
     "text": [
      "Epoch: 31 | Time: 0m 22s\tTrain Loss: 0.182 | Test Loss: 0.347\n",
      "epoch start:  31\n"
     ]
    },
    {
     "name": "stderr",
     "output_type": "stream",
     "text": [
      "8000it [00:19, 409.70it/s]\n",
      "2000it [00:02, 982.11it/s] \n"
     ]
    },
    {
     "name": "stdout",
     "output_type": "stream",
     "text": [
      "Epoch: 32 | Time: 0m 21s\tTrain Loss: 0.180 | Test Loss: 0.401\n",
      "epoch start:  32\n"
     ]
    },
    {
     "name": "stderr",
     "output_type": "stream",
     "text": [
      "8000it [00:19, 411.75it/s]\n",
      "2000it [00:02, 986.14it/s] \n"
     ]
    },
    {
     "name": "stdout",
     "output_type": "stream",
     "text": [
      "Epoch: 33 | Time: 0m 21s\tTrain Loss: 0.181 | Test Loss: 0.396\n",
      "epoch start:  33\n"
     ]
    },
    {
     "name": "stderr",
     "output_type": "stream",
     "text": [
      "8000it [00:19, 415.07it/s]\n",
      "2000it [00:02, 985.86it/s] \n"
     ]
    },
    {
     "name": "stdout",
     "output_type": "stream",
     "text": [
      "Epoch: 34 | Time: 0m 21s\tTrain Loss: 0.181 | Test Loss: 0.401\n",
      "epoch start:  34\n"
     ]
    },
    {
     "name": "stderr",
     "output_type": "stream",
     "text": [
      "8000it [00:19, 412.17it/s]\n",
      "2000it [00:02, 997.24it/s] \n"
     ]
    },
    {
     "name": "stdout",
     "output_type": "stream",
     "text": [
      "Epoch: 35 | Time: 0m 21s\tTrain Loss: 0.178 | Test Loss: 0.418\n",
      "epoch start:  35\n"
     ]
    },
    {
     "name": "stderr",
     "output_type": "stream",
     "text": [
      "8000it [00:19, 413.72it/s]\n",
      "2000it [00:02, 961.37it/s]\n"
     ]
    },
    {
     "name": "stdout",
     "output_type": "stream",
     "text": [
      "Epoch: 36 | Time: 0m 21s\tTrain Loss: 0.179 | Test Loss: 0.406\n",
      "epoch start:  36\n"
     ]
    },
    {
     "name": "stderr",
     "output_type": "stream",
     "text": [
      "8000it [00:19, 412.68it/s]\n",
      "2000it [00:02, 997.88it/s] \n"
     ]
    },
    {
     "name": "stdout",
     "output_type": "stream",
     "text": [
      "Epoch: 37 | Time: 0m 21s\tTrain Loss: 0.174 | Test Loss: 0.407\n",
      "epoch start:  37\n"
     ]
    },
    {
     "name": "stderr",
     "output_type": "stream",
     "text": [
      "8000it [00:19, 413.78it/s]\n",
      "2000it [00:02, 981.45it/s] \n"
     ]
    },
    {
     "name": "stdout",
     "output_type": "stream",
     "text": [
      "Epoch: 38 | Time: 0m 21s\tTrain Loss: 0.171 | Test Loss: 0.409\n",
      "epoch start:  38\n"
     ]
    },
    {
     "name": "stderr",
     "output_type": "stream",
     "text": [
      "8000it [00:19, 411.84it/s]\n",
      "2000it [00:02, 938.50it/s]\n"
     ]
    },
    {
     "name": "stdout",
     "output_type": "stream",
     "text": [
      "Epoch: 39 | Time: 0m 21s\tTrain Loss: 0.172 | Test Loss: 0.409\n",
      "epoch start:  39\n"
     ]
    },
    {
     "name": "stderr",
     "output_type": "stream",
     "text": [
      "8000it [00:23, 340.66it/s]\n",
      "2000it [00:02, 752.72it/s]\n"
     ]
    },
    {
     "name": "stdout",
     "output_type": "stream",
     "text": [
      "Epoch: 40 | Time: 0m 26s\tTrain Loss: 0.167 | Test Loss: 0.410\n",
      "epoch start:  40\n"
     ]
    },
    {
     "name": "stderr",
     "output_type": "stream",
     "text": [
      "8000it [00:25, 316.71it/s]\n",
      "2000it [00:02, 741.42it/s]\n"
     ]
    },
    {
     "name": "stdout",
     "output_type": "stream",
     "text": [
      "Epoch: 41 | Time: 0m 27s\tTrain Loss: 0.179 | Test Loss: 0.417\n",
      "epoch start:  41\n"
     ]
    },
    {
     "name": "stderr",
     "output_type": "stream",
     "text": [
      "8000it [00:26, 302.72it/s]\n",
      "2000it [00:02, 717.02it/s]\n"
     ]
    },
    {
     "name": "stdout",
     "output_type": "stream",
     "text": [
      "Epoch: 42 | Time: 0m 29s\tTrain Loss: 0.162 | Test Loss: 0.421\n",
      "epoch start:  42\n"
     ]
    },
    {
     "name": "stderr",
     "output_type": "stream",
     "text": [
      "8000it [00:21, 380.13it/s]\n",
      "2000it [00:02, 836.77it/s]\n"
     ]
    },
    {
     "name": "stdout",
     "output_type": "stream",
     "text": [
      "Epoch: 43 | Time: 0m 23s\tTrain Loss: 0.162 | Test Loss: 0.429\n",
      "epoch start:  43\n"
     ]
    },
    {
     "name": "stderr",
     "output_type": "stream",
     "text": [
      "8000it [00:22, 359.13it/s]\n",
      "2000it [00:02, 888.14it/s]\n"
     ]
    },
    {
     "name": "stdout",
     "output_type": "stream",
     "text": [
      "Epoch: 44 | Time: 0m 24s\tTrain Loss: 0.161 | Test Loss: 0.418\n",
      "epoch start:  44\n"
     ]
    },
    {
     "name": "stderr",
     "output_type": "stream",
     "text": [
      "8000it [00:20, 385.55it/s]\n",
      "2000it [00:02, 916.53it/s]\n"
     ]
    },
    {
     "name": "stdout",
     "output_type": "stream",
     "text": [
      "Epoch: 45 | Time: 0m 22s\tTrain Loss: 0.161 | Test Loss: 0.437\n",
      "epoch start:  45\n"
     ]
    },
    {
     "name": "stderr",
     "output_type": "stream",
     "text": [
      "8000it [00:20, 387.70it/s]\n",
      "2000it [00:02, 915.25it/s]\n"
     ]
    },
    {
     "name": "stdout",
     "output_type": "stream",
     "text": [
      "Epoch: 46 | Time: 0m 22s\tTrain Loss: 0.156 | Test Loss: 0.441\n",
      "epoch start:  46\n"
     ]
    },
    {
     "name": "stderr",
     "output_type": "stream",
     "text": [
      "8000it [00:20, 385.76it/s]\n",
      "2000it [00:02, 917.43it/s]\n"
     ]
    },
    {
     "name": "stdout",
     "output_type": "stream",
     "text": [
      "Epoch: 47 | Time: 0m 22s\tTrain Loss: 0.155 | Test Loss: 0.435\n",
      "epoch start:  47\n"
     ]
    },
    {
     "name": "stderr",
     "output_type": "stream",
     "text": [
      "8000it [00:20, 384.80it/s]\n",
      "2000it [00:02, 724.92it/s]\n"
     ]
    },
    {
     "name": "stdout",
     "output_type": "stream",
     "text": [
      "Epoch: 48 | Time: 0m 23s\tTrain Loss: 0.152 | Test Loss: 0.434\n",
      "epoch start:  48\n"
     ]
    },
    {
     "name": "stderr",
     "output_type": "stream",
     "text": [
      "8000it [00:21, 375.24it/s]\n",
      "2000it [00:02, 922.89it/s]\n"
     ]
    },
    {
     "name": "stdout",
     "output_type": "stream",
     "text": [
      "Epoch: 49 | Time: 0m 23s\tTrain Loss: 0.156 | Test Loss: 0.441\n",
      "epoch start:  49\n"
     ]
    },
    {
     "name": "stderr",
     "output_type": "stream",
     "text": [
      "8000it [00:19, 400.30it/s]\n",
      "2000it [00:02, 966.96it/s]"
     ]
    },
    {
     "name": "stdout",
     "output_type": "stream",
     "text": [
      "Epoch: 50 | Time: 0m 22s\tTrain Loss: 0.147 | Test Loss: 0.487\n"
     ]
    },
    {
     "name": "stderr",
     "output_type": "stream",
     "text": [
      "\n"
     ]
    }
   ],
   "source": [
    "import time\n",
    "N_EPOCHS = 50\n",
    "best_test_loss = float('inf')\n",
    "for epoch in range(N_EPOCHS):  \n",
    "    print(\"epoch start: \", epoch)  \n",
    "    start_time = time.time()\n",
    "    training_loss = train(predictor, optimizer, criterion, CLIP)\n",
    "    training_losses.append(training_loss)\n",
    "    test_loss = evaluate(predictor, criterion)\n",
    "    test_losses.append(test_loss)  \n",
    "    end_time = time.time()\n",
    "    epoch_mins, epoch_secs = epoch_time(start_time, end_time)\n",
    "    if test_loss < best_test_loss:\n",
    "        best_test_loss = test_loss \n",
    "        torch.save(predictor.state_dict(), 'best_treeRNN.pt')\n",
    "        \n",
    "\n",
    "    print(f'Epoch: {epoch+1:02} | Time: {epoch_mins}m {epoch_secs}s', end='')\n",
    "    print(f'\\tTrain Loss: {training_loss:.3f} | Test Loss: {test_loss:.3f}')\n"
   ]
  },
  {
   "cell_type": "code",
   "execution_count": 116,
   "metadata": {},
   "outputs": [
    {
     "data": {
      "text/plain": [
       "<matplotlib.legend.Legend at 0x7f4c04f68890>"
      ]
     },
     "execution_count": 116,
     "metadata": {},
     "output_type": "execute_result"
    },
    {
     "data": {
      "image/png": "[encoded data removed]",
      "text/plain": [
       "<Figure size 432x288 with 1 Axes>"
      ]
     },
     "metadata": {},
     "output_type": "display_data"
    }
   ],
   "source": [
    "import numpy as np\n",
    "%matplotlib inline\n",
    "import matplotlib.pyplot as plt\n",
    "import seaborn as sns\n",
    "\n",
    "\n",
    "sns.set()\n",
    "x = np.arange(len(training_losses))\n",
    "plt.plot(x, training_losses, label = 'training loss')\n",
    "plt.plot(x, test_losses, label = 'test loss')\n",
    "plt.legend()"
   ]
  },
  {
   "cell_type": "code",
   "execution_count": 160,
   "metadata": {},
   "outputs": [
    {
     "name": "stdout",
     "output_type": "stream",
     "text": [
      "tensor([[978.,  27.],\n",
      "        [105., 890.]])\n"
     ]
    }
   ],
   "source": [
    "print(confusion_matrix[73])"
   ]
  },
  {
   "cell_type": "code",
   "execution_count": 63,
   "metadata": {},
   "outputs": [
    {
     "data": {
      "text/plain": [
       "0"
      ]
     },
     "execution_count": 63,
     "metadata": {},
     "output_type": "execute_result"
    }
   ],
   "source": [
    "np.argmin(np.array(test_losses))"
   ]
  },
  {
   "cell_type": "markdown",
   "metadata": {},
   "source": [
    "# Module 4\n",
    "## Evaluation\n",
    "## HERE We Load the Best Model, try to reproduct test loss and confusion matrix\n",
    "## We also analysis the wrong predictions"
   ]
  },
  {
   "cell_type": "code",
   "execution_count": 6,
   "metadata": {},
   "outputs": [
    {
     "data": {
      "text/plain": [
       "TreeRNNPredictor(\n",
       "  (embedding): Embedding(7, 75)\n",
       "  (matrix_m): Linear(in_features=150, out_features=75, bias=True)\n",
       "  (fc_output): Linear(in_features=75, out_features=1, bias=True)\n",
       ")"
      ]
     },
     "execution_count": 6,
     "metadata": {},
     "output_type": "execute_result"
    }
   ],
   "source": [
    "best_model = TreeRNNPredictor()\n",
    "best_model.load_state_dict(torch.load(\"best_treeRNN.pt\"))\n",
    "best_model.eval()"
   ]
  },
  {
   "cell_type": "code",
   "execution_count": 7,
   "metadata": {},
   "outputs": [],
   "source": [
    "confusion_matrix_test = []\n",
    "error = []\n",
    "\n",
    "def evaluate(model, criterion):\n",
    "    \n",
    "    model.eval()\n",
    "    epoch_loss = 0\n",
    "    total = 0\n",
    "    confusion_matrix_test.append(torch.zeros(2,2))\n",
    "    global num_epochs\n",
    "    for i, batch in tqdm(enumerate(test_data)):\n",
    "        z = best_model.forward(batch[1])\n",
    "        loss = 0\n",
    "        loss = criterion(z, torch.tensor([batch[0]]))      \n",
    "        epoch_loss += loss.item()\n",
    "        total += 1\n",
    "        \n",
    "        # Load in confusion_matrix_test\n",
    "        \n",
    "            \n",
    "        row = int(batch[0])\n",
    "        col = int(z+0.5)\n",
    "        confusion_matrix_test[0][row][col] += 1\n",
    "        if row != col:\n",
    "            error.append((batch[1], row, col))\n",
    "     \n",
    "        \n",
    "    return epoch_loss/total"
   ]
  },
  {
   "cell_type": "code",
   "execution_count": 8,
   "metadata": {},
   "outputs": [
    {
     "name": "stderr",
     "output_type": "stream",
     "text": [
      "2000it [00:02, 866.47it/s]\n"
     ]
    },
    {
     "data": {
      "text/plain": [
       "0.32347527070486576"
      ]
     },
     "execution_count": 8,
     "metadata": {},
     "output_type": "execute_result"
    }
   ],
   "source": [
    "evaluate(best_model, criterion)"
   ]
  },
  {
   "cell_type": "code",
   "execution_count": 9,
   "metadata": {},
   "outputs": [
    {
     "data": {
      "text/plain": [
       "[tensor([[971.,  34.],\n",
       "         [107., 888.]])]"
      ]
     },
     "execution_count": 9,
     "metadata": {},
     "output_type": "execute_result"
    }
   ],
   "source": [
    "confusion_matrix_test"
   ]
  },
  {
   "cell_type": "code",
   "execution_count": 10,
   "metadata": {},
   "outputs": [],
   "source": [
    "def my_printexp(tree):\n",
    "    if tree.leftChild:\n",
    "        print('(', end=' ')\n",
    "        my_printexp(tree.leftChild)\n",
    "    if tree.isLeaf():\n",
    "        print(tree.key, end=' ')\n",
    "    if tree.rightChild:\n",
    "        my_printexp(tree.rightChild)\n",
    "        print(')', end=' ')"
   ]
  },
  {
   "cell_type": "code",
   "execution_count": 11,
   "metadata": {},
   "outputs": [
    {
     "name": "stdout",
     "output_type": "stream",
     "text": [
      "(<pythonds.trees.binaryTree.BinaryTree object at 0x7f6ebb1b7bd0>, 1, 0)\n",
      "( ( ~ q ) ( <=> ( q ( <=> ( ( q ( | p ) ) ( <=> q ) ) ) ) ) ) "
     ]
    }
   ],
   "source": [
    "print(error[0])\n",
    "my_printexp(error[0][0])\n"
   ]
  },
  {
   "cell_type": "code",
   "execution_count": 12,
   "metadata": {},
   "outputs": [
    {
     "name": "stdout",
     "output_type": "stream",
     "text": [
      "(<pythonds.trees.binaryTree.BinaryTree object at 0x7f6ebb15b1d0>, 0, 1)\n",
      "( ( ~ p ) ( <=> ( ( q ( & ( q ( & ( p ( & q ) ) ) ) ) ) ( | p ) ) ) ) "
     ]
    }
   ],
   "source": [
    "print(error[1])\n",
    "my_printexp(error[1][0])"
   ]
  },
  {
   "cell_type": "code",
   "execution_count": 13,
   "metadata": {},
   "outputs": [
    {
     "name": "stdout",
     "output_type": "stream",
     "text": [
      "(<pythonds.trees.binaryTree.BinaryTree object at 0x7f6ebb0cbb10>, 1, 0)\n",
      "( ( q ( => ( ~ q ) ) ) ( <=> ( ( q ( & q ) ) ( <=> ( p ( & p ) ) ) ) ) ) "
     ]
    }
   ],
   "source": [
    "print(error[10])\n",
    "my_printexp(error[10][0])"
   ]
  },
  {
   "cell_type": "code",
   "execution_count": 14,
   "metadata": {},
   "outputs": [
    {
     "name": "stdout",
     "output_type": "stream",
     "text": [
      "(<pythonds.trees.binaryTree.BinaryTree object at 0x7f6ebb0ce350>, 1, 0)\n",
      "( ( p ( | ( p ( & p ) ) ) ) ( <=> ( p ( <=> ( ( ( q ( | p ) ) ( => ( ~ p ) ) ) ( <=> ( ( q ( => ( q ( => ( ( ~ q ) ( => ( ( ~ q ) ( | ( ~ ( ~ p ) ) ) ) ) ) ) ) ) ) ( <=> ( ( p ( | p ) ) ( => p ) ) ) ) ) ) ) ) ) ) "
     ]
    }
   ],
   "source": [
    "print(error[11])\n",
    "my_printexp(error[11][0])"
   ]
  },
  {
   "cell_type": "code",
   "execution_count": 15,
   "metadata": {},
   "outputs": [
    {
     "name": "stdout",
     "output_type": "stream",
     "text": [
      "(<pythonds.trees.binaryTree.BinaryTree object at 0x7f6ebb02c7d0>, 1, 0)\n",
      "( ( ( ~ p ) ( | ( p ( & ( ~ p ) ) ) ) ) ( <=> q ) ) \n",
      "\n",
      "(<pythonds.trees.binaryTree.BinaryTree object at 0x7f6ebb032a50>, 1, 0)\n",
      "( ( ~ ( ~ q ) ) ( <=> ( ( ~ q ) ( <=> ( ( p ( => ( q ( => ( p ( & q ) ) ) ) ) ) ( <=> ( q ( <=> ( q ( | p ) ) ) ) ) ) ) ) ) ) \n",
      "\n",
      "(<pythonds.trees.binaryTree.BinaryTree object at 0x7f6ebb0370d0>, 1, 0)\n",
      "( ( ~ q ) ( <=> ( ( q ( => ( q ( & q ) ) ) ) ( <=> ( ( p ( => ( ( p ( & p ) ) ( => ( ( p ( | ( q ( | ( p ( & ( q ( & p ) ) ) ) ) ) ) ) ( => ( q ( => ( p ( | ( p ( | q ) ) ) ) ) ) ) ) ) ) ) ) ( <=> ( q ( | ( ~ p ) ) ) ) ) ) ) ) ) \n",
      "\n",
      "(<pythonds.trees.binaryTree.BinaryTree object at 0x7f6ebafc5910>, 1, 0)\n",
      "( p ( <=> ( ( ~ q ) ( <=> ( ( ~ p ) ( <=> ( ( ( ~ q ) ( => q ) ) ( <=> ( ( q ( => ( q ( | p ) ) ) ) ( <=> ( ( q ( | p ) ) ( <=> ( q ( <=> q ) ) ) ) ) ) ) ) ) ) ) ) ) ) \n",
      "\n",
      "(<pythonds.trees.binaryTree.BinaryTree object at 0x7f6ebaf8a890>, 1, 0)\n",
      "( q ( <=> ( ( ( ~ ( ~ q ) ) ( => p ) ) ( <=> ( ( ~ p ) ( <=> ( ( p ( & p ) ) ( | ( ~ q ) ) ) ) ) ) ) ) ) \n",
      "\n",
      "(<pythonds.trees.binaryTree.BinaryTree object at 0x7f6ebafa1fd0>, 1, 0)\n",
      "( ( ( q ( | q ) ) ( => p ) ) ( <=> ( ( ( q ( | p ) ) ( => p ) ) ( <=> ( p ( <=> ( p ( <=> ( q ( <=> ( ( p ( => p ) ) ( <=> ( ( p ( & ( ~ q ) ) ) ( <=> ( p ( <=> ( ~ ( ~ p ) ) ) ) ) ) ) ) ) ) ) ) ) ) ) ) ) ) \n",
      "\n",
      "(<pythonds.trees.binaryTree.BinaryTree object at 0x7f6ebaf65d50>, 1, 0)\n",
      "( ( p ( | ( ( ~ q ) ( & p ) ) ) ) ( <=> ( ( p ( => ( q ( | p ) ) ) ) ( <=> ( ( p ( => ( q ( | p ) ) ) ) ( <=> ( ( ~ p ) ( <=> ( ~ q ) ) ) ) ) ) ) ) ) \n",
      "\n",
      "(<pythonds.trees.binaryTree.BinaryTree object at 0x7f6ebaf763d0>, 1, 0)\n",
      "( ( ~ q ) ( <=> ( ( ~ q ) ( => p ) ) ) ) \n",
      "\n",
      "(<pythonds.trees.binaryTree.BinaryTree object at 0x7f6ebaf05890>, 1, 0)\n",
      "( ( p ( & ( ~ ( ~ ( ~ q ) ) ) ) ) ( <=> ( ( ( q ( & q ) ) ( => p ) ) ( <=> ( ( ( p ( & q ) ) ( | q ) ) ( <=> ( q ( => ( ( ~ q ) ( | q ) ) ) ) ) ) ) ) ) ) \n",
      "\n",
      "(<pythonds.trees.binaryTree.BinaryTree object at 0x7f6ebaf307d0>, 1, 0)\n",
      "( ( ( ~ p ) ( | q ) ) ( <=> ( q ( <=> ( ( p ( | q ) ) ( <=> ( ~ q ) ) ) ) ) ) ) \n",
      "\n",
      "(<pythonds.trees.binaryTree.BinaryTree object at 0x7f6ebaf32510>, 1, 0)\n",
      "( p ( & ( ~ q ) ) ) \n",
      "\n",
      "(<pythonds.trees.binaryTree.BinaryTree object at 0x7f6ebaed2fd0>, 1, 0)\n",
      "( ( q ( => ( p ( => ( q ( => ( ~ p ) ) ) ) ) ) ) ( <=> ( ( p ( => ( ~ ( ~ q ) ) ) ) ( <=> ( ( q ( & p ) ) ( <=> ( ( q ( | ( p ( & q ) ) ) ) ( <=> ( p ( | ( ( ~ p ) ( | ( q ( & p ) ) ) ) ) ) ) ) ) ) ) ) ) ) \n",
      "\n",
      "(<pythonds.trees.binaryTree.BinaryTree object at 0x7f6ebae91990>, 1, 0)\n",
      "( ( p ( & ( ~ p ) ) ) ( <=> ( q ( & p ) ) ) ) \n",
      "\n",
      "(<pythonds.trees.binaryTree.BinaryTree object at 0x7f6ebaeb83d0>, 0, 1)\n",
      "( q ( <=> ( ( q ( | q ) ) ( <=> ( ( p ( => ( p ( => ( q ( => ( ( p ( & q ) ) ( | ( q ( & p ) ) ) ) ) ) ) ) ) ) ( <=> ( ( p ( | p ) ) ( <=> ( ~ p ) ) ) ) ) ) ) ) ) \n",
      "\n",
      "(<pythonds.trees.binaryTree.BinaryTree object at 0x7f6ebae44f90>, 1, 0)\n",
      "( ( q ( => ( q ( & q ) ) ) ) ( <=> ( ( p ( => p ) ) ( <=> ( ( ~ p ) ( <=> q ) ) ) ) ) ) \n",
      "\n",
      "(<pythonds.trees.binaryTree.BinaryTree object at 0x7f6ebae47790>, 0, 1)\n",
      "( ( ( ~ q ) ( & p ) ) ( <=> ( p ( => ( ( ~ q ) ( => ( p ( => ( ~ p ) ) ) ) ) ) ) ) ) \n",
      "\n",
      "(<pythonds.trees.binaryTree.BinaryTree object at 0x7f6ebae4f0d0>, 0, 1)\n",
      "( ( ( p ( & ( p ( & ( ~ p ) ) ) ) ) ( => ( ( p ( | q ) ) ( => q ) ) ) ) ( <=> ( ( q ( => ( q ( => ( q ( & q ) ) ) ) ) ) ( <=> ( ( p ( | ( p ( & p ) ) ) ) ( <=> ( ~ p ) ) ) ) ) ) ) \n",
      "\n",
      "(<pythonds.trees.binaryTree.BinaryTree object at 0x7f6ebae63190>, 1, 0)\n",
      "( p ( <=> ( ( p ( | ( ( p ( & p ) ) ( | ( ( ~ q ) ( | p ) ) ) ) ) ) ( <=> ( q ( <=> ( ( ( ~ p ) ( => ( ( p ( & q ) ) ( => ( q ( => ( ( p ( & p ) ) ( => ( ~ p ) ) ) ) ) ) ) ) ) ( <=> ( ~ q ) ) ) ) ) ) ) ) ) \n",
      "\n",
      "(<pythonds.trees.binaryTree.BinaryTree object at 0x7f6ebae6bc90>, 1, 0)\n",
      "( ( ( ( ~ ( ~ q ) ) ( | q ) ) ( => ( ~ p ) ) ) ( <=> ( ~ ( ~ q ) ) ) ) \n",
      "\n",
      "(<pythonds.trees.binaryTree.BinaryTree object at 0x7f6ebae74cd0>, 1, 0)\n",
      "( ( ( ~ p ) ( & q ) ) ( <=> ( q ( <=> ( p ( & p ) ) ) ) ) ) \n",
      "\n"
     ]
    }
   ],
   "source": [
    "for i in range (20):\n",
    "    print(error[20+i])\n",
    "    my_printexp(error[20+i][0])\n",
    "    print()\n",
    "    print()"
   ]
  },
  {
   "cell_type": "code",
   "execution_count": 16,
   "metadata": {},
   "outputs": [],
   "source": [
    "def height(tree):\n",
    "    if tree == None:\n",
    "        return -1\n",
    "    else:\n",
    "        return 1 + max(height(tree.leftChild),height(tree.rightChild))\n"
   ]
  },
  {
   "cell_type": "code",
   "execution_count": 17,
   "metadata": {},
   "outputs": [
    {
     "data": {
      "text/plain": [
       "9.127659574468085"
      ]
     },
     "execution_count": 17,
     "metadata": {},
     "output_type": "execute_result"
    }
   ],
   "source": [
    "# Avg height of the error set\n",
    "sum = 0\n",
    "for i in error:\n",
    "    sum+= height(i[0])\n",
    "sum/len(error)"
   ]
  },
  {
   "cell_type": "code",
   "execution_count": 18,
   "metadata": {},
   "outputs": [
    {
     "data": {
      "text/plain": [
       "8.094"
      ]
     },
     "execution_count": 18,
     "metadata": {},
     "output_type": "execute_result"
    }
   ],
   "source": [
    "# Avg height of the test set\n",
    "sum = 0\n",
    "for i in test_data:\n",
    "    sum+= height(i[1])\n",
    "sum/len(test_data)"
   ]
  },
  {
   "cell_type": "markdown",
   "metadata": {},
   "source": [
    "# fregment analysis"
   ]
  },
  {
   "cell_type": "code",
   "execution_count": 79,
   "metadata": {},
   "outputs": [],
   "source": [
    "e1 = 'p'\n",
    "e2 = 'q'\n",
    "e3 = '( ~ p )'\n",
    "e4 = '( ~ q )'\n",
    "\n",
    "e5 = '( p ( | q ) )'\n",
    "e6 = '( p ( & q ) )'\n",
    "\n",
    "e7 = '( ( ~ p ) ( | q ) )'\n",
    "e7 = '( ( ~ p ) ( | p ) )'\n",
    "\n",
    "e8 = '( ( ~ p ) ( & q ) )'\n",
    "e9 = '( ( ~ q ) ( & q ) )'\n",
    "e10 = '( ( ~ q ) ( & p ) )'\n",
    "e11 = '( ( ~ p ) ( & p ) )'\n",
    "\n",
    "\n",
    "t1 = buildParseTree(e1)\n",
    "t2 = buildParseTree(e2)\n",
    "t3 = buildParseTree(e3)\n",
    "t4 = buildParseTree(e4)\n",
    "t5 = buildParseTree(e5)\n",
    "t6 = buildParseTree(e6)\n",
    "t7 = buildParseTree(e7)\n",
    "t8 = buildParseTree(e8)\n",
    "t9 = buildParseTree(e9)\n",
    "t10 = buildParseTree(e10)\n",
    "t11 = buildParseTree(e11)"
   ]
  },
  {
   "cell_type": "code",
   "execution_count": 80,
   "metadata": {},
   "outputs": [
    {
     "name": "stdout",
     "output_type": "stream",
     "text": [
      "p tensor([0.9450], grad_fn=<SigmoidBackward0>)\n",
      "q tensor([1.0000], grad_fn=<SigmoidBackward0>)\n",
      "( ~ p ) tensor([1.0000], grad_fn=<SigmoidBackward0>)\n",
      "( ~ q ) tensor([1.], grad_fn=<SigmoidBackward0>)\n",
      "( p ( | q ) ) tensor([1.], grad_fn=<SigmoidBackward0>)\n",
      "( p ( & q ) ) tensor([1.], grad_fn=<SigmoidBackward0>)\n",
      "( ( ~ p ) ( | p ) ) tensor([1.], grad_fn=<SigmoidBackward0>)\n",
      "( ( ~ p ) ( & q ) ) tensor([0.0106], grad_fn=<SigmoidBackward0>)\n",
      "( ( ~ q ) ( & q ) ) tensor([0.0122], grad_fn=<SigmoidBackward0>)\n",
      "( ( ~ q ) ( & p ) ) tensor([0.0122], grad_fn=<SigmoidBackward0>)\n",
      "( ( ~ p ) ( & p ) ) tensor([0.0078], grad_fn=<SigmoidBackward0>)\n"
     ]
    }
   ],
   "source": [
    "#t1.isLeaf()\n",
    "print(e1, best_model.forward(t1))\n",
    "print(e2, best_model.forward(t2))\n",
    "print(e3, best_model.forward(t3))\n",
    "print(e4, best_model.forward(t4))\n",
    "print(e5, best_model.forward(t5))\n",
    "print(e6, best_model.forward(t6))\n",
    "print(e7, best_model.forward(t7))\n",
    "print(e8, best_model.forward(t8))\n",
    "print(e9, best_model.forward(t9))\n",
    "print(e10, best_model.forward(t10))\n",
    "print(e11, best_model.forward(t11))"
   ]
  }
 ],
 "metadata": {
  "kernelspec": {
   "display_name": "Python 3",
   "language": "python",
   "name": "python3"
  },
  "language_info": {
   "codemirror_mode": {
    "name": "ipython",
    "version": 3
   },
   "file_extension": ".py",
   "mimetype": "text/x-python",
   "name": "python",
   "nbconvert_exporter": "python",
   "pygments_lexer": "ipython3",
   "version": "3.7.6"
  }
 },
 "nbformat": 4,
 "nbformat_minor": 4
}
